{
 "cells": [
  {
   "cell_type": "code",
   "execution_count": 2,
   "metadata": {},
   "outputs": [],
   "source": [
    "'''Genetics question generator'''\n",
    "import pandas as pd\n",
    "import random as rd\n",
    "import numpy as np"
   ]
  },
  {
   "cell_type": "markdown",
   "metadata": {},
   "source": [
    "## Question doc generator \n",
    "Generates manipulated text file from word docx"
   ]
  },
  {
   "cell_type": "code",
   "execution_count": 2,
   "metadata": {},
   "outputs": [
    {
     "name": "stdout",
     "output_type": "stream",
     "text": [
      "File already exists\n"
     ]
    }
   ],
   "source": [
    "text = pd.read_table('base.txt')\n",
    "questions = 0\n",
    "try:\n",
    "    open('Questions.txt')\n",
    "except:\n",
    "    for index, row in enumerate(text.iloc[:, 1]):\n",
    "        if questions == 0 and index == 0:\n",
    "            with open('Questions.txt', 'a') as file:\n",
    "                file.write('Number\\tQuestion\\n')\n",
    "        if  'Ch' not in text.iloc[index, 0]:\n",
    "            questions += 1\n",
    "            with open('Questions.txt', 'a') as file:\n",
    "                file.write(f'{questions}\\t{row}\\n')\n",
    "        else:\n",
    "            print('CHAPTER ROW',index, text.iloc[index, 0], row)\n",
    "    file.close()\n",
    "else:\n",
    "    print('File already exists')\n",
    "\n"
   ]
  },
  {
   "cell_type": "code",
   "execution_count": 3,
   "metadata": {},
   "outputs": [],
   "source": [
    "questions = pd.read_table('Questions.txt',encoding='latin-1')\n",
    "weights = np.ones(242)\n",
    "\n",
    "def Generate2(refresh = False):\n",
    "    global weights\n",
    "    question_numbers = np.linspace(0, 241, 242)\n",
    "    if refresh == True:\n",
    "        weights = np.ones(242)\n",
    "\n",
    "    normalized_weight = weights/(np.full(242, sum(weights))\n",
    "    cval = int(np.random.choice(question_numbers, 1, p=normalized_weight))\n",
    "    print(f'{questions.iloc[cval, 1]}\\n', int(cval))\n",
    "    \n",
    "    answer = input(\"Do you want the question to show up less? y/n \\n\")\n",
    "\n",
    "    if answer == 'y':\n",
    "        if weights[cval] >= 1:\n",
    "            weights[cval] = weights[cval] - 1\n",
    "    elif answer == 'n':\n",
    "        weights[cval] = weights[cval] + 1\n",
    "    else:\n",
    "        print('No weight change')"
   ]
  },
  {
   "cell_type": "code",
   "execution_count": null,
   "metadata": {},
   "outputs": [],
   "source": []
  }
 ],
 "metadata": {
  "kernelspec": {
   "display_name": "Python 3 (ipykernel)",
   "language": "python",
   "name": "python3"
  },
  "language_info": {
   "codemirror_mode": {
    "name": "ipython",
    "version": 3
   },
   "file_extension": ".py",
   "mimetype": "text/x-python",
   "name": "python",
   "nbconvert_exporter": "python",
   "pygments_lexer": "ipython3",
   "version": "3.9.7"
  }
 },
 "nbformat": 4,
 "nbformat_minor": 2
}
